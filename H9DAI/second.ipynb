{
 "cells": [
  {
   "cell_type": "markdown",
   "metadata": {},
   "source": [
    "# Data Preprocessing Workflow\n",
    "\n",
    "__Scenario__\n",
    "You are given a dataset containing information about house prices, with features  like size, location, number of bedrooms, and price. The dataset contains missing values and categorical variables.\n",
    "\n",
    "1. Load and Explorer the Dataset\n",
    "    * Create a pandas DataFrame with the following data\n",
    "        | Size (sqft) | Location   | Bedrooms | Price ($) |\n",
    "        |-------------|------------|----------|-----------|\n",
    "        | 1500        | Downtown   | 3        | 400000    |\n",
    "        | 1700        | Suburban   | 4        | 450000    |\n",
    "        | 1600        | Downtown   | NaN      | 420000    |\n",
    "        | NaN         | Rural      | 2        | 200000    |\n",
    "        | 1800        | Suburban   | 3        | NaN       |\n",
    "\n",
    "2. Handle Missing Values. Fill missing values for.\n",
    "    * Bedrooms: Use the median value.\n",
    "    * Size.. Use the mean value.\n",
    "    * Price. Use the median value.\n",
    "\n",
    "3. Encode Categorical Data\n",
    "    * Convert the Location column into numerical values using one-hot encoding.\n",
    "\n",
    "4. Feature Scaling\n",
    "    * Standardize the numerical columns: Size, Bedrooms, and Price.\n",
    "\n",
    "5. Split the Data\n",
    "    * Divide the preprocessed dataset into 80% training and 20% testing sets.\n",
    "\n"
   ]
  },
  {
   "cell_type": "code",
   "execution_count": 6,
   "metadata": {},
   "outputs": [
    {
     "name": "stdout",
     "output_type": "stream",
     "text": [
      "   Size (sqft)  Bedrooms  Price ($)  Location_Rural  Location_Suburban\n",
      "0    -1.341641  0.000000   0.330520           False              False\n",
      "1     0.447214  1.414214   0.839013           False               True\n",
      "2    -0.447214       NaN   0.533917           False              False\n",
      "3          NaN -1.414214  -1.703451            True              False\n",
      "4     1.341641  0.000000        NaN           False               True    Size (sqft)  Bedrooms  Price ($)  Location_Rural  Location_Suburban\n",
      "4     1.341641  0.000000        NaN           False               True\n",
      "2    -0.447214       NaN   0.533917           False              False\n",
      "0    -1.341641  0.000000   0.330520           False              False\n",
      "3          NaN -1.414214  -1.703451            True              False    Size (sqft)  Bedrooms  Price ($)  Location_Rural  Location_Suburban\n",
      "1     0.447214  1.414214   0.839013           False               True\n"
     ]
    }
   ],
   "source": [
    "import pandas as pd \n",
    "import numpy as np \n",
    "from sklearn.preprocessing import StandardScaler\n",
    "from sklearn.model_selection import train_test_split\n",
    "\n",
    "# 1. Create the dataset\n",
    "data = {\n",
    "    'Size (sqft)' : [1500, 1700, 1600, np.nan, 1800],\n",
    "    'Location' : ['Downtown', 'Suburban', 'Downtown', 'Rural', 'Suburban'],\n",
    "    'Bedrooms' : [3, 4, np.nan, 2, 3],\n",
    "    'Price ($)' : [400000, 450000, 420000, 200000, np.nan]\n",
    "}\n",
    "\n",
    "df = pd.DataFrame(data)\n",
    "\n",
    "# 2. Handle missing values\n",
    "df['Bedrooms'].fillna(df['Bedrooms'].median())\n",
    "df['Size (sqft)'].fillna(df['Size (sqft)'].mean())\n",
    "df['Price ($)'].fillna(df['Price ($)'].median())\n",
    "\n",
    "# 3. Encode categorical data\n",
    "df = pd.get_dummies( df, columns=['Location'], drop_first=True)\n",
    "\n",
    "# 4. Feature scaling\n",
    "scaler = StandardScaler()\n",
    "scaled_features = scaler.fit_transform(df[['Size (sqft)', 'Bedrooms', 'Price ($)']])\n",
    "df_scaled = pd.DataFrame(scaled_features, columns=['Size (sqft)', 'Bedrooms', 'Price ($)'])\n",
    "df_scaled = pd.concat([df_scaled, df.iloc[:,3:]], axis=1)\n",
    "\n",
    "# 5. Split the data\n",
    "train, test = train_test_split(df_scaled, test_size=0.2, random_state=42)\n",
    "\n",
    "# Display results\n",
    "\n",
    "print(df_scaled, train, test)\n"
   ]
  },
  {
   "cell_type": "code",
   "execution_count": null,
   "metadata": {},
   "outputs": [],
   "source": []
  }
 ],
 "metadata": {
  "kernelspec": {
   "display_name": ".env",
   "language": "python",
   "name": "python3"
  },
  "language_info": {
   "codemirror_mode": {
    "name": "ipython",
    "version": 3
   },
   "file_extension": ".py",
   "mimetype": "text/x-python",
   "name": "python",
   "nbconvert_exporter": "python",
   "pygments_lexer": "ipython3",
   "version": "3.12.1"
  }
 },
 "nbformat": 4,
 "nbformat_minor": 2
}
