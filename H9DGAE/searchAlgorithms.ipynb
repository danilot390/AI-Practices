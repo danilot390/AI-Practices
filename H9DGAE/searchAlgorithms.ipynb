{
 "cells": [
  {
   "cell_type": "code",
   "execution_count": 1,
   "metadata": {},
   "outputs": [],
   "source": [
    "graph = {\n",
    "    'A' : {'B', 'C'},\n",
    "    'B' : {'A', 'D', 'E'},\n",
    "    'C' : {'A', 'F'},\n",
    "    'D' : {'B'},\n",
    "    'E' : {'B', 'F'},\n",
    "    'F' : {'C', 'E'},\n",
    "}"
   ]
  },
  {
   "cell_type": "code",
   "execution_count": 2,
   "metadata": {},
   "outputs": [],
   "source": [
    "from collections import deque\n",
    "\n",
    "def bfs(graph, start):\n",
    "    visited = set()\n",
    "    queue = deque([start])\n",
    "\n",
    "    while queue:\n",
    "        node = queue.popleft()\n",
    "        if node not in visited:\n",
    "            print(f'Visiting: {node}')\n",
    "            visited.add(node)\n",
    "            queue.extend(graph[node]-visited)\n",
    "\n",
    "    return visited"
   ]
  },
  {
   "cell_type": "code",
   "execution_count": 3,
   "metadata": {},
   "outputs": [
    {
     "name": "stdout",
     "output_type": "stream",
     "text": [
      "Visiting: A\n",
      "Visiting: B\n",
      "Visiting: C\n",
      "Visiting: E\n",
      "Visiting: D\n",
      "Visiting: F\n"
     ]
    },
    {
     "data": {
      "text/plain": [
       "{'A', 'B', 'C', 'D', 'E', 'F'}"
      ]
     },
     "execution_count": 3,
     "metadata": {},
     "output_type": "execute_result"
    }
   ],
   "source": [
    "bfs(graph, 'A')"
   ]
  },
  {
   "cell_type": "code",
   "execution_count": 4,
   "metadata": {},
   "outputs": [],
   "source": [
    "def dfs(graph, start, visited=None):\n",
    "    if visited is None:\n",
    "        visited = set()\n",
    "\n",
    "    visited.add(start)\n",
    "    print(f'Visiting: {start}')\n",
    "    for next in graph[start] - visited:\n",
    "        dfs(graph, next, visited)\n",
    "        \n",
    "    return visited"
   ]
  },
  {
   "cell_type": "code",
   "execution_count": 5,
   "metadata": {},
   "outputs": [
    {
     "name": "stdout",
     "output_type": "stream",
     "text": [
      "Visiting: A\n",
      "Visiting: B\n",
      "Visiting: E\n",
      "Visiting: F\n",
      "Visiting: C\n",
      "Visiting: D\n",
      "Visiting: C\n"
     ]
    },
    {
     "data": {
      "text/plain": [
       "{'A', 'B', 'C', 'D', 'E', 'F'}"
      ]
     },
     "execution_count": 5,
     "metadata": {},
     "output_type": "execute_result"
    }
   ],
   "source": [
    "dfs(graph, 'A')"
   ]
  },
  {
   "cell_type": "code",
   "execution_count": 6,
   "metadata": {},
   "outputs": [],
   "source": [
    "import heapq\n",
    "\n",
    "def a_start(graph, start, goal, h):\n",
    "    open_list = [(0, start)]\n",
    "    g_score = { start:0 }\n",
    "    came_from = {}\n",
    "\n",
    "    while open_list:\n",
    "        _, current = heapq.heappop(open_list)\n",
    "\n",
    "        if current == goal:\n",
    "            return reconstruct_path(came_from, current)\n",
    "        \n",
    "        for neighbor, cost in graph[current].items():\n",
    "            tentative_g_score = g_score[current]+cost\n",
    "\n",
    "            if neighbor not in g_score or tentative_g_score < g_score[neighbor]:\n",
    "                came_from[neighbor]=current\n",
    "                g_score[neighbor] = tentative_g_score\n",
    "                f_score = tentative_g_score + h(neighbor)\n",
    "                heapq.heappush(open_list, (f_score, neighbor))\n",
    "    \n",
    "    return None\n",
    "\n",
    "def reconstruct_path(came_from, current):\n",
    "    path = [current]\n",
    "\n",
    "    while current in came_from:\n",
    "        current = came_from[current]\n",
    "        path.append(current)\n",
    "    \n",
    "    path.reverse()\n",
    "    return path\n",
    "\n"
   ]
  },
  {
   "cell_type": "code",
   "execution_count": 7,
   "metadata": {},
   "outputs": [],
   "source": [
    "import heapq\n",
    "\n",
    "def a_start(grid, start, goal):\n",
    "    def heuristic(a, b):\n",
    "        # Manhattan distance as a heuristic\n",
    "        return abs(a[0]-b[0])+abs(a[1]-b[1])\n",
    "\n",
    "    rows, cols = len(grid), len(grid[0])\n",
    "    open_list = [(0, start)]\n",
    "    g_score = {start: 0}\n",
    "    came_from = {}\n",
    "    directions = [(0,1),(1,0),(0,-1),(-1,0)] # Right, Down, Left, Up\n",
    "\n",
    "    while open_list:\n",
    "        _, current = heapq.heappop(open_list)\n",
    "\n",
    "        if current == goal:\n",
    "            return reconstruct_path(came_from, current)\n",
    "        \n",
    "        for dx, dy in directions:\n",
    "            neighbor = (current[0]+dx, current[1]+dy)\n",
    "\n",
    "            if 0 <= neighbor[0] < rows and 0 <= neighbor[1] < cols and grid[neighbor[0]][neighbor[1]] != '#':\n",
    "                tentative_g_score = g_score[current] + 1\n",
    "\n",
    "                if neighbor not in g_score or tentative_g_score < g_score[neighbor]:\n",
    "                    came_from[neighbor] = current\n",
    "                    g_score[neighbor] = tentative_g_score\n",
    "                    f_score = tentative_g_score + heuristic(neighbor, goal)\n",
    "                    heapq.heappush(open_list, (f_score, neighbor))\n",
    "\n",
    "    return None\n",
    "\n",
    "def reconstruct_path(came_from, current):\n",
    "    path = [current]\n",
    "\n",
    "    while current in came_from:\n",
    "        current = came_from[current]\n",
    "        path.append(current)\n",
    "\n",
    "    return path[::-1] # Reverse the path\n"
   ]
  },
  {
   "cell_type": "code",
   "execution_count": 8,
   "metadata": {},
   "outputs": [
    {
     "name": "stdout",
     "output_type": "stream",
     "text": [
      "Path:  [(0, 0), (0, 1), (0, 2), (0, 3), (0, 4), (1, 4), (2, 4)]\n"
     ]
    }
   ],
   "source": [
    "grid = [\n",
    "    ['S', '.', '.', '.', '.'],\n",
    "    ['.', '#', '#', '#', '.'],\n",
    "    ['.', '.', '.', '#', 'G']\n",
    "]\n",
    "\n",
    "# Convert grid to coordinate-based\n",
    "start = (0,0)\n",
    "goal = (2,4)\n",
    "\n",
    "# Run A* Search\n",
    "path = a_start(grid, start, goal)\n",
    "print('Path: ', path)"
   ]
  }
 ],
 "metadata": {
  "kernelspec": {
   "display_name": ".env",
   "language": "python",
   "name": "python3"
  },
  "language_info": {
   "codemirror_mode": {
    "name": "ipython",
    "version": 3
   },
   "file_extension": ".py",
   "mimetype": "text/x-python",
   "name": "python",
   "nbconvert_exporter": "python",
   "pygments_lexer": "ipython3",
   "version": "3.12.1"
  }
 },
 "nbformat": 4,
 "nbformat_minor": 2
}
