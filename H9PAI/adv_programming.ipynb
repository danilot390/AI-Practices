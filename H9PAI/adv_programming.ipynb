{
 "cells": [
  {
   "cell_type": "markdown",
   "metadata": {},
   "source": [
    "# 1. Functional Programming"
   ]
  },
  {
   "cell_type": "code",
   "execution_count": 1,
   "metadata": {},
   "outputs": [
    {
     "name": "stdout",
     "output_type": "stream",
     "text": [
      "[1, 4, 9, 16, 25]\n"
     ]
    }
   ],
   "source": [
    "# Using numbers and lambda\n",
    "numbers = [1, 2, 3, 4, 5]\n",
    "squared = list(map(lambda x: x**2, numbers))\n",
    "print(squared)"
   ]
  },
  {
   "cell_type": "code",
   "execution_count": 7,
   "metadata": {},
   "outputs": [
    {
     "name": "stdout",
     "output_type": "stream",
     "text": [
      "[4, 16, 36]\n"
     ]
    }
   ],
   "source": [
    "numbers = [1, 2, 3, 4, 5, 6]\n",
    "filtered = list(filter(lambda x: x%2 == 0, numbers))\n",
    "squared = list(map(lambda x: x**2, filtered))\n",
    "print(squared)"
   ]
  },
  {
   "cell_type": "code",
   "execution_count": 8,
   "metadata": {},
   "outputs": [
    {
     "name": "stdout",
     "output_type": "stream",
     "text": [
      "120\n"
     ]
    }
   ],
   "source": [
    "from functools import reduce\n",
    "\n",
    "numbers = [1, 2, 3, 4, 5]\n",
    "# calculate the product of all elements with reduce\n",
    "product = reduce(lambda x, y: x*y, numbers)\n",
    "print(product)"
   ]
  },
  {
   "cell_type": "markdown",
   "metadata": {},
   "source": [
    "# 2. Data Structures"
   ]
  },
  {
   "cell_type": "code",
   "execution_count": 2,
   "metadata": {},
   "outputs": [
    {
     "name": "stdout",
     "output_type": "stream",
     "text": [
      "deque(['Python', 'AI', 'Data', 'Machine Learning', 'Deep Learning'])\n"
     ]
    }
   ],
   "source": [
    "from collections import deque\n",
    "\n",
    "# Double-ended queue\n",
    "queue = deque(['AI', 'Data', 'Machine Learning'])\n",
    "queue.append('Deep Learning')\n",
    "queue.appendleft('Python')\n",
    "\n",
    "print(queue)"
   ]
  },
  {
   "cell_type": "code",
   "execution_count": 9,
   "metadata": {},
   "outputs": [
    {
     "name": "stdout",
     "output_type": "stream",
     "text": [
      "deque(['Task 2'])\n"
     ]
    }
   ],
   "source": [
    "queue = deque()\n",
    "queue.append('Task 1')\n",
    "queue.append('Task 2')\n",
    "queue.popleft()\n",
    "print(queue)"
   ]
  },
  {
   "cell_type": "code",
   "execution_count": 2,
   "metadata": {},
   "outputs": [
    {
     "name": "stdout",
     "output_type": "stream",
     "text": [
      "[5, 10, 15]\n",
      "Processing task: Respond to emails, (Priority 1)\n",
      "Processing task: Fix critical bug, (Priority 2)\n",
      "Processing task: Write report, (Priority 3)\n"
     ]
    }
   ],
   "source": [
    "import heapq\n",
    "numbers = [10, 20, 5, 30, 15]\n",
    "smallest = heapq.nsmallest(3, numbers)\n",
    "print(smallest)\n",
    "\n",
    "tasks = [\n",
    "    (3, 'Write report'),\n",
    "    (2, 'Fix critical bug'),\n",
    "    (1, 'Respond to emails')\n",
    "]\n",
    "\n",
    "# Convert the list to heap\n",
    "heapq.heapify(tasks)\n",
    "\n",
    "# Process tasks by priority\n",
    "while tasks:\n",
    "    priority, task = heapq.heappop(tasks)\n",
    "    print(f'Processing task: {task}, (Priority {priority})')\n"
   ]
  },
  {
   "cell_type": "code",
   "execution_count": 11,
   "metadata": {},
   "outputs": [
    {
     "name": "stdout",
     "output_type": "stream",
     "text": [
      "Processing: High Priority (Priority 1)\n",
      "Processing: Medium Priority (Priority 2)\n",
      "Processing: Low Priority (Priority 3)\n"
     ]
    }
   ],
   "source": [
    "tasks = [(3, 'Low Priority'), (1, 'High Priority'), (2, 'Medium Priority')]\n",
    "heapq.heapify(tasks)\n",
    "\n",
    "while tasks:\n",
    "    priority, task = heapq.heappop(tasks)\n",
    "    print(f'Processing: {task} (Priority {priority})')\n",
    "    "
   ]
  },
  {
   "cell_type": "code",
   "execution_count": 5,
   "metadata": {},
   "outputs": [
    {
     "name": "stdout",
     "output_type": "stream",
     "text": [
      "Added normal order {'Order 1'}\n",
      "Added urgent order: Urgent Order A\n",
      "Added normal order {'Order 2'}\n",
      "Added urgent order: Urgent Order B\n",
      "Processing urgent order: Urgent Order A\n",
      "Processing urgent order: Urgent Order B\n",
      "Processing normal order: Order 1\n",
      "Processing normal order: Order 2\n",
      "No orders to process.\n"
     ]
    }
   ],
   "source": [
    "from collections import deque\n",
    "import heapq\n",
    "\n",
    "class OrderSystem:\n",
    "    def __init__(self):\n",
    "        self.normal_orders = deque()\n",
    "        self.urgent_orders = []\n",
    "        self.counter = 0\n",
    "\n",
    "    def add_normal_order(self, order):\n",
    "        self.normal_orders.append(order)\n",
    "        print(f'Added normal order', {order})\n",
    "\n",
    "    def add_urgent_order(self, order):\n",
    "        heapq.heappush(self.urgent_orders, (self.counter, order)) # Higher priority for earlier urgent orders\n",
    "        self.counter += 1\n",
    "        print(f'Added urgent order: {order}')\n",
    "\n",
    "    def process_order(self):\n",
    "        if self.urgent_orders:\n",
    "            _, order = heapq.heappop(self.urgent_orders)\n",
    "            print(f'Processing urgent order: {order}' )\n",
    "        elif self.normal_orders:\n",
    "            order = self.normal_orders.popleft()\n",
    "            print(f'Processing normal order: {order}')\n",
    "        else:\n",
    "            print('No orders to process.')\n",
    "\n",
    "system = OrderSystem()\n",
    "\n",
    "# Add orders\n",
    "system.add_normal_order('Order 1')\n",
    "system.add_urgent_order('Urgent Order A')\n",
    "system.add_normal_order('Order 2')\n",
    "system.add_urgent_order('Urgent Order B')\n",
    "\n",
    "# Process orders\n",
    "system.process_order()\n",
    "system.process_order()\n",
    "system.process_order()\n",
    "system.process_order()\n",
    "system.process_order()"
   ]
  },
  {
   "cell_type": "markdown",
   "metadata": {},
   "source": [
    "# 3. Performance Optimization"
   ]
  },
  {
   "cell_type": "code",
   "execution_count": 6,
   "metadata": {},
   "outputs": [
    {
     "name": "stdout",
     "output_type": "stream",
     "text": [
      "[[ 7 10]\n",
      " [15 22]]\n"
     ]
    }
   ],
   "source": [
    "import numpy as np\n",
    "\n",
    "# Using NumPy for matrix operations\n",
    "matrix = np.array([[1,2],[3,4]])\n",
    "result = np.dot(matrix, matrix)\n",
    "print(result)"
   ]
  },
  {
   "cell_type": "code",
   "execution_count": 7,
   "metadata": {},
   "outputs": [
    {
     "name": "stdout",
     "output_type": "stream",
     "text": [
      "15\n"
     ]
    }
   ],
   "source": [
    "array = np.array([1, 2, 3, 4, 5])\n",
    "total = np.sum(array)\n",
    "print(total)"
   ]
  },
  {
   "cell_type": "code",
   "execution_count": 8,
   "metadata": {},
   "outputs": [
    {
     "name": "stdout",
     "output_type": "stream",
     "text": [
      "[[ 6  8]\n",
      " [10 12]]\n"
     ]
    }
   ],
   "source": [
    "# Element-wise addition of two matrices \n",
    "matrix1 = np.array([[1, 2], [3,4]])\n",
    "matrix2 = np.array([[5, 6],[7, 8]])\n",
    "result = matrix1 + matrix2\n",
    "print(result)"
   ]
  },
  {
   "cell_type": "code",
   "execution_count": 9,
   "metadata": {},
   "outputs": [
    {
     "name": "stdout",
     "output_type": "stream",
     "text": [
      "[[240.57683896 247.2059683  254.98139195 ... 243.74284426 261.36887418\n",
      "  251.98909475]\n",
      " [245.73980872 257.40014054 259.86295033 ... 257.95953425 268.4912917\n",
      "  262.72468221]\n",
      " [227.31934581 244.87747959 244.12343425 ... 249.09653879 254.60030576\n",
      "  246.66994438]\n",
      " ...\n",
      " [241.98378178 258.43485246 260.6472608  ... 258.98492559 264.47159801\n",
      "  254.92758569]\n",
      " [235.94518257 244.27701341 247.58616331 ... 241.35779106 253.29932562\n",
      "  246.70920937]\n",
      " [231.66861574 244.61027961 244.52597458 ... 240.97964431 252.78015169\n",
      "  249.26766232]]\n"
     ]
    }
   ],
   "source": [
    "# Use NumPy for large matrix multiplications\n",
    "matrix1 = np.random.rand(1000, 1000)\n",
    "matrix2 = np.random.rand(1000, 1000)\n",
    "result = np.dot(matrix1, matrix2)\n",
    "print(result)"
   ]
  },
  {
   "cell_type": "markdown",
   "metadata": {},
   "source": [
    "# 4. Advanced Features  "
   ]
  },
  {
   "cell_type": "code",
   "execution_count": 21,
   "metadata": {},
   "outputs": [
    {
     "name": "stdout",
     "output_type": "stream",
     "text": [
      "[0, 1, 1, 2, 3, 5, 8, 13, 21, 34]\n"
     ]
    }
   ],
   "source": [
    "# Using generator\n",
    "def fibbonaci(n):\n",
    "    a, b= 0, 1\n",
    "    for _ in range(n):\n",
    "        yield a\n",
    "        a, b = b, a+b\n",
    "\n",
    "# Fibbonci numbers\n",
    "print(list(fibbonaci(10)))\n"
   ]
  },
  {
   "cell_type": "code",
   "execution_count": 18,
   "metadata": {},
   "outputs": [
    {
     "name": "stdout",
     "output_type": "stream",
     "text": [
      "[2, 4, 6, 8]\n"
     ]
    }
   ],
   "source": [
    "# Use generator to produce even numbers.\n",
    "def even_numbers(limit):\n",
    "    for num in range(1,limit):\n",
    "        if num % 2 == 0 :\n",
    "            yield num\n",
    "\n",
    "print(list(even_numbers(10)))"
   ]
  },
  {
   "cell_type": "code",
   "execution_count": 19,
   "metadata": {},
   "outputs": [
    {
     "name": "stdout",
     "output_type": "stream",
     "text": [
      "Calling great\n",
      "Hello, Alice\n"
     ]
    }
   ],
   "source": [
    "# Create a decorator to log function calls\n",
    "def log_function(func):\n",
    "    def wrapper(*args, **kwargs):\n",
    "        print(f'Calling {func.__name__}')\n",
    "        return func(*args, **kwargs)\n",
    "    return wrapper\n",
    "\n",
    "@log_function\n",
    "def great(name):\n",
    "    return f'Hello, {name}'\n",
    "\n",
    "print(great('Alice'))"
   ]
  },
  {
   "cell_type": "code",
   "execution_count": 20,
   "metadata": {},
   "outputs": [
    {
     "name": "stdout",
     "output_type": "stream",
     "text": [
      "[0, 1, 1, 2, 3, 5, 8]\n"
     ]
    }
   ],
   "source": [
    "# Generator to yield Fibbonaci numbers up to a limit\n",
    "def fibbonaci_ii(limit):\n",
    "    a, b = 0, 1\n",
    "    while a < limit:\n",
    "        yield a\n",
    "        a, b = b, a+b\n",
    "\n",
    "print(list(fibbonaci_ii(10)))"
   ]
  },
  {
   "cell_type": "code",
   "execution_count": null,
   "metadata": {},
   "outputs": [],
   "source": []
  }
 ],
 "metadata": {
  "kernelspec": {
   "display_name": ".env",
   "language": "python",
   "name": "python3"
  },
  "language_info": {
   "codemirror_mode": {
    "name": "ipython",
    "version": 3
   },
   "file_extension": ".py",
   "mimetype": "text/x-python",
   "name": "python",
   "nbconvert_exporter": "python",
   "pygments_lexer": "ipython3",
   "version": "3.12.1"
  }
 },
 "nbformat": 4,
 "nbformat_minor": 2
}
