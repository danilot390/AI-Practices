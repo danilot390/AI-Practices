{
 "cells": [
  {
   "cell_type": "markdown",
   "metadata": {},
   "source": [
    "# Employee Workload Balancer\n",
    "You are managing a team's workload and need to optimize task distribution. Each employee is assigned a list of tasks with varying levels of difficulty. your goal is to:\n",
    "1. Filter out tasks that are lebeled as 'Low Priority'.\n",
    "2. Calculate the total difficulty_score for all remaining tasks per employee.\n",
    "3. Scale the difficulty_score by reducing it by 10%.\n",
    "4. Sort employees by their scaled total difficulty in descending order.\n",
    "5. Create a generator to yield each employee's name and their adjusted total difficulty."
   ]
  },
  {
   "cell_type": "code",
   "execution_count": 15,
   "metadata": {},
   "outputs": [],
   "source": [
    "employees = [\n",
    "    {\"name\": \"Alice\", \n",
    "     \"tasks\": \n",
    "        [{\"name\": \"Task 1\", \"difficulty\": 5, \"priority\": \"High\"}, \n",
    "         {\"name\": \"Task 2\", \"difficulty\": 2, \"priority\": \"Low\"}]},\n",
    "    {\"name\": \"Bob\", \n",
    "     \"tasks\": \n",
    "        [{\"name\": \"Task 3\", \"difficulty\": 4, \"priority\": \"Medium\"}, \n",
    "         {\"name\": \"Task 4\", \"difficulty\": 3, \"priority\": \"High\"}]},\n",
    "    {\"name\": \"Charlie\", \n",
    "     \"tasks\": \n",
    "        [{\"name\": \"Task 5\", \"difficulty\": 1, \"priority\": \"Low\"}, \n",
    "        {\"name\": \"Task 6\", \"difficulty\": 6, \"priority\": \"High\"}]}\n",
    "]"
   ]
  },
  {
   "cell_type": "code",
   "execution_count": 16,
   "metadata": {},
   "outputs": [
    {
     "name": "stdout",
     "output_type": "stream",
     "text": [
      "Employee: Bob, Difficulty Score: 6.30\n",
      "Employee: Charlie, Difficulty Score: 5.40\n",
      "Employee: Alice, Difficulty Score: 4.50\n"
     ]
    }
   ],
   "source": [
    "from functools import reduce\n",
    "from typing import List, Dict, Any\n",
    "\n",
    "# Helper function to scale difficuty\n",
    "def scale_task_difficulty(tasks: List[Dict[str, Any]], factor: float) -> List[Dict[str, Any]]:\n",
    "    return list(map(lambda t:{ **t,\n",
    "                              'difficulty': t['difficulty']*factor\n",
    "                            },\n",
    "                    tasks))\n",
    "\n",
    "# Helper function to calculate difficulty_score\n",
    "def calculate_difficulty_score(tasks: List[Dict[str, Any]]) -> float:\n",
    "    return reduce(lambda acc, t: acc+t['difficulty'], tasks, 0) if tasks else 0.0\n",
    "\n",
    "# Helper function to filter tasks by parameter\n",
    "def filter_tasks_by_parameter(tasks: List[Dict[str, Any]], filter_factor: str) -> List[Dict[str, Any]]:\n",
    "    return [t for t in tasks if t['priority']!=filter_factor]\n",
    "    # return list(filter(lambda t: t['priority']!=filter_factor, tasks))\n",
    "\n",
    "# 1. Filter employees by priority \n",
    "employees_with_filtered_tasks = list(map(\n",
    "    lambda e: {**e,\n",
    "                'tasks': filter_tasks_by_parameter(e['tasks'],'Low')\n",
    "                }, \n",
    "    employees\n",
    "    ))\n",
    "\n",
    "# 2. Calculate difficult for the remaining tasks\n",
    "employees_with_scores = list(map(\n",
    "    lambda e: {**e,\n",
    "                'difficulty_score': calculate_difficulty_score(e['tasks'])},\n",
    "                employees_with_filtered_tasks\n",
    "))\n",
    "\n",
    "# 3. Apply a scaling factor \n",
    "scaling_factor = 0.9\n",
    "scaled_employees = list(map(\n",
    "    lambda e: {\n",
    "        **e, \n",
    "        'difficulty_score': e['difficulty_score']*scaling_factor,\n",
    "        'tasks': scale_task_difficulty(e['tasks'], scaling_factor),\n",
    "    },\n",
    "    employees_with_scores\n",
    "))\n",
    "\n",
    "# 4. Sort employees by difficulty_score in descendent order\n",
    "sorted_employees = sorted(\n",
    "    scaled_employees,\n",
    "    key = lambda e: (e['difficulty_score']),\n",
    "    reverse=True\n",
    ") \n",
    "\n",
    "# 5. Generator to yield employee's name & difficulty score\n",
    "def employee_generator(employees):\n",
    "    for employee in employees:\n",
    "        yield f'Employee: {employee['name']}, Difficulty Score: {employee['difficulty_score']:.2f}'\n",
    "\n",
    "for employ_detail in employee_generator(sorted_employees):\n",
    "    print(employ_detail)\n"
   ]
  },
  {
   "cell_type": "markdown",
   "metadata": {},
   "source": [
    "# Dynamic Resource Allocation for Cloud Servers\n",
    "You are managing a pool of cloud servers and need to optimize resource allocation based on current loads. Each server has a set of running tasks, and your goal is to:\n",
    "1. Filter out tasks that consume less than specific amount of memory (e.g., 1GB).\n",
    "2. Calculate the total memory usage for each  server.\n",
    "3. Apply a scaling factor to reduce memory consumption for optimization (e.g., reduce memory usage by 15%).\n",
    "4. Sort servers by their scaled memory usage in ascending order.\n",
    "5. Create a generator that yilds the server Id, the count of tasks on the server, and the scaled memory usage."
   ]
  },
  {
   "cell_type": "code",
   "execution_count": 19,
   "metadata": {},
   "outputs": [],
   "source": [
    "servers = [\n",
    "    {\"id\": \"S1\", \"tasks\": [\n",
    "        {\"name\": \"Task A\", \"memory_gb\": 2.5}, \n",
    "        {\"name\": \"Task B\", \"memory_gb\": 0.8}, \n",
    "        {\"name\": \"Task C\", \"memory_gb\": 1.5}]},\n",
    "    {\"id\": \"S2\", \"tasks\": [\n",
    "        {\"name\": \"Task D\", \"memory_gb\": 3.0}, \n",
    "        {\"name\": \"Task E\", \"memory_gb\": 1.2}]},\n",
    "    {\"id\": \"S3\", \"tasks\": [\n",
    "        {\"name\": \"Task F\", \"memory_gb\": 0.5}, \n",
    "        {\"name\": \"Task G\", \"memory_gb\": 2.0}, \n",
    "        {\"name\": \"Task H\", \"memory_gb\": 1.8}]}\n",
    "]"
   ]
  },
  {
   "cell_type": "code",
   "execution_count": 22,
   "metadata": {},
   "outputs": [
    {
     "name": "stdout",
     "output_type": "stream",
     "text": [
      "Server: S2, Task Count: 2, Scaled memory: 3.57 GB.\n",
      "Server: S3, Task Count: 2, Scaled memory: 3.65 GB.\n",
      "Server: S1, Task Count: 2, Scaled memory: 4.08 GB.\n",
      "Server: S3, Task Count: 2, Scaled Memory: 3.23 GB\n",
      "Server: S1, Task Count: 2, Scaled Memory: 3.40 GB\n",
      "Server: S2, Task Count: 2, Scaled Memory: 3.57 GB\n"
     ]
    }
   ],
   "source": [
    "from functools import reduce\n",
    "from typing import List, Dict, Any\n",
    "\n",
    "# Helper funcion to filter task by parameter\n",
    "def filter_tasks_by_memory(tasks: List[Dict[str, Any]], min_memory:float)-> List[Dict[str,any]]:\n",
    "    \"\"\"Filters tasks consuming more than the specific memory.\"\"\"\n",
    "    return list(filter(lambda t: t['memory_gb'] > min_memory, tasks))\n",
    "    # return [t for t in tasks if t['memory_gb'] > min_memory]\n",
    "\n",
    "# Helper function to calculate total memory\n",
    "def calculate_total_memory(tasks: List[Dict[str, Any]])->float:\n",
    "    \"\"\"Calculates the total memory usage of given tasks.\"\"\"\n",
    "    return reduce(lambda acc, t: acc+t['memory_gb'], tasks, 0) if tasks else 0.0\n",
    "    return sum(task['memory_gb'] for task in tasks) if tasks else 0.0\n",
    "\n",
    "# Helper function to scale memory\n",
    "def scale_memory(memory: float, factor: float) -> float:\n",
    "    return round(memory * factor, 2)\n",
    "\n",
    "# Pipline for functional processing\n",
    "def process_servers(servers: List[Dict[str, Any]], min_memory:float, scaling_factor:float)-> List[str]:\n",
    "    return list(map(\n",
    "        lambda server: f'Server: {server['id']}, Task Count: {len(server['tasks'])}, Scaled memory: {server['scaled_memory']} GB.',\n",
    "        sorted(\n",
    "            map(\n",
    "                lambda s: {\n",
    "                    **s,\n",
    "                    'tasks': filter_tasks_by_memory(s['tasks'], min_memory),\n",
    "                    'memory': calculate_total_memory(s['tasks']),\n",
    "                    'scaled_memory': scale_memory(calculate_total_memory(s['tasks']), scaling_factor) \n",
    "                }, servers\n",
    "            ), key=lambda s: s['scaled_memory']\n",
    "        )\n",
    "    ))\n",
    "\n",
    "for result in process_servers(servers, 1.0, 0.85):\n",
    "    print(result)\n",
    "\n",
    "\n",
    "# 1. Filter tasks that consume less specific amount\n",
    "minimum_usage = 1.0\n",
    "filtered_tasks = list(map(lambda s:{**s, 'tasks': filter_tasks_by_memory(s['tasks'], minimum_usage)}, servers))\n",
    "\n",
    "# 2. Calculate total memory for each server\n",
    "memory_server = list(map(lambda s:{**s,'memory': calculate_total_memory(s['tasks'])}, filtered_tasks))\n",
    "\n",
    "# 3. Apply scaling factor to memory\n",
    "scaling_factor = 0.85\n",
    "scaled_memory = list(map(lambda s: {**s,'scaled memory': round(s['memory']*scaling_factor, 2)}, memory_server))\n",
    "\n",
    "# 4. Sort server by scaled_memory\n",
    "sorted_scaled_memory = sorted(scaled_memory,key = lambda s: (s['scaled memory']) )\n",
    "\n",
    "# 5. Generator to yield server details\n",
    "def server_generator(servers:List[Dict[str, Any]]):\n",
    "    for server in servers:\n",
    "        yield f'Server: {server['id']}, Task Count: {len(server['tasks'])}, Scaled Memory: {server['scaled memory']:.2f} GB'\n",
    "\n",
    "# Print server details\n",
    "for server in server_generator(sorted_scaled_memory):\n",
    "    print(server)"
   ]
  },
  {
   "cell_type": "code",
   "execution_count": null,
   "metadata": {},
   "outputs": [],
   "source": []
  },
  {
   "cell_type": "code",
   "execution_count": null,
   "metadata": {},
   "outputs": [],
   "source": []
  }
 ],
 "metadata": {
  "kernelspec": {
   "display_name": ".env",
   "language": "python",
   "name": "python3"
  },
  "language_info": {
   "codemirror_mode": {
    "name": "ipython",
    "version": 3
   },
   "file_extension": ".py",
   "mimetype": "text/x-python",
   "name": "python",
   "nbconvert_exporter": "python",
   "pygments_lexer": "ipython3",
   "version": "3.12.1"
  }
 },
 "nbformat": 4,
 "nbformat_minor": 2
}
