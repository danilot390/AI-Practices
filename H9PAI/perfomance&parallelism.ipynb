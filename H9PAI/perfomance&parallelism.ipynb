{
 "cells": [
  {
   "cell_type": "markdown",
   "metadata": {},
   "source": []
  },
  {
   "cell_type": "markdown",
   "metadata": {},
   "source": [
    "# 1. Matrix Multiplication with NumPy\n",
    "Matrix operations can be signifincatly faster with NumPy due to its optimized C backend.\n",
    "\n",
    "Why NumPy\n",
    "\n",
    "- Uses vectorized operations instead of Python loops.\n",
    "- Efficient memory management.\n",
    "- Parallel computation under the hood (uses BLAS libraries)."
   ]
  },
  {
   "cell_type": "code",
   "execution_count": 1,
   "metadata": {},
   "outputs": [
    {
     "name": "stdout",
     "output_type": "stream",
     "text": [
      "Matrix multiplication took 0.01 seconds.\n"
     ]
    }
   ],
   "source": [
    "import numpy as np\n",
    "import time \n",
    "\n",
    "# Generate large random matrices\n",
    "size = 1000\n",
    "A = np.random.rand(size, size)\n",
    "B = np.random.rand(size, size)\n",
    "\n",
    "# Perform matrix multiplication \n",
    "start_time = time.time()\n",
    "C = np.dot(A, B) # Optimized with NumPy\n",
    "end_time = time.time()\n",
    "\n",
    "print(f'Matrix multiplication took {end_time - start_time:.2f} seconds.')"
   ]
  },
  {
   "cell_type": "markdown",
   "metadata": {},
   "source": [
    "# 2. Parallel Processing with concurrent.futures\n",
    "Suppose you want to process a large dataset by applying a computationally expensive function to each chunk. parallelism can help.\n",
    "\n",
    "Why Parallelism?\n",
    "- Utilizes multiple CPU cores for faster processing.\n",
    "- Suitable for tasks that are CPU-bound"
   ]
  },
  {
   "cell_type": "code",
   "execution_count": 1,
   "metadata": {},
   "outputs": [
    {
     "name": "stdout",
     "output_type": "stream",
     "text": [
      "Sequential processing took 0.31 seconds.\n",
      "Parallel processing took 0.37 seconds.\n"
     ]
    }
   ],
   "source": [
    "import concurrent.futures\n",
    "import numpy as np\n",
    "import time\n",
    "from my_functions import expensive_function\n",
    "\n",
    "if __name__ == '__main__':\n",
    "    # Generate a large dataset\n",
    "    data = np.random.rand(10_000_000)\n",
    "\n",
    "    # Split data into chunks\n",
    "    num_chunks = 8\n",
    "    chunk_size = len(data) // num_chunks\n",
    "    chunks = [data[i * chunk_size:(1+i) * chunk_size] for i in range(num_chunks)]\n",
    "\n",
    "    # Sequential processing \n",
    "    start_time = time.time()\n",
    "    results = [expensive_function(chunk) for chunk in chunks]\n",
    "    sequential_time = time.time()-start_time\n",
    "    print(f'Sequential processing took {sequential_time:.2f} seconds.')\n",
    "\n",
    "    # Parallel processing\n",
    "    start_time = time.time()\n",
    "    with concurrent.futures.ProcessPoolExecutor() as executor:\n",
    "        results_parallel = list(executor.map(expensive_function, chunks))\n",
    "    parallel_time = time.time() - start_time\n",
    "    print(f'Parallel processing took {parallel_time:.2f} seconds.')\n",
    "    "
   ]
  },
  {
   "cell_type": "markdown",
   "metadata": {},
   "source": [
    "# 3. Combining NumPy and Parallelism\n",
    "Optimize both the computation and execution by using NumPy for vectorized operations and concurrent.futures for multitasking"
   ]
  },
  {
   "cell_type": "code",
   "execution_count": 3,
   "metadata": {},
   "outputs": [
    {
     "name": "stdout",
     "output_type": "stream",
     "text": [
      "Parallel processing with NumPy took 0.22 seconds.\n"
     ]
    }
   ],
   "source": [
    "import numpy as np \n",
    "import concurrent.futures\n",
    "import time\n",
    "\n",
    "from my_functions import process_chunk\n",
    "\n",
    "if __name__ == '__main__':\n",
    "    # Generate a large dataset\n",
    "    data = np.random.rand(10_000_000)\n",
    "\n",
    "    # Split data into chunks\n",
    "    num_chunks = 8\n",
    "    chunk_size = len(data) // num_chunks\n",
    "    chunks = [data[i * chunk_size:(i+1) * chunk_size] for i in range(num_chunks)]\n",
    "\n",
    "    # Parallel processing with NumPy\n",
    "    start_time = time.time()\n",
    "    with concurrent.futures.ProcessPoolExecutor() as excutor:\n",
    "        results = list(excutor.map(process_chunk, chunks))\n",
    "    parallel_time = time.time() - start_time\n",
    "\n",
    "    print(f'Parallel processing with NumPy took {parallel_time:.2f} seconds.')"
   ]
  },
  {
   "cell_type": "markdown",
   "metadata": {},
   "source": [
    "# 4. Efficient Data Aggregation with NumPy\n",
    "Compute the sum of squares for a large dataset efficiently.\n",
    "\n",
    "Why use NumPy here?\n",
    "- Eliminates the need for loops in python.\n",
    "- Minimizes overhead and maximizes memory locality."
   ]
  },
  {
   "cell_type": "code",
   "execution_count": 4,
   "metadata": {},
   "outputs": [
    {
     "name": "stdout",
     "output_type": "stream",
     "text": [
      "Sum of squares computed in 0.54 seconds.\n"
     ]
    }
   ],
   "source": [
    "import numpy as np\n",
    "import time\n",
    "\n",
    "# Generate a large dataset\n",
    "data = np.random.rand(100_000_000)\n",
    "\n",
    "# Efficient computation with NumPy\n",
    "start_time = time.time()\n",
    "result = np.sum(data ** 2)\n",
    "end_time = time.time()\n",
    "\n",
    "print(f'Sum of squares computed in {end_time - start_time:.2f} seconds.')"
   ]
  },
  {
   "cell_type": "code",
   "execution_count": null,
   "metadata": {},
   "outputs": [],
   "source": []
  }
 ],
 "metadata": {
  "kernelspec": {
   "display_name": ".env",
   "language": "python",
   "name": "python3"
  },
  "language_info": {
   "codemirror_mode": {
    "name": "ipython",
    "version": 3
   },
   "file_extension": ".py",
   "mimetype": "text/x-python",
   "name": "python",
   "nbconvert_exporter": "python",
   "pygments_lexer": "ipython3",
   "version": "3.12.1"
  }
 },
 "nbformat": 4,
 "nbformat_minor": 2
}
