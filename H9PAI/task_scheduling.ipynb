{
 "cells": [
  {
   "cell_type": "markdown",
   "metadata": {},
   "source": [
    "# Task Scheduling and Performance Optimization\n",
    "You are tasked with designing a teask scheduler that processes a list of tasks with the following conditions.\n",
    "1. Each task has a priority, duration (in hour), and a category (e.g., 'Critical', 'High', 'Medium', 'Low').\n",
    "2. You need to filter tasks based on their priority level (e.g., only process 'Critical' and 'High' priority tasks).\n",
    "3. Calculate the total duration of all selected tasks.\n",
    "4. Apply a scaling factor (e.g., reduce the duration by 20%) to optimize time allocation.\n",
    "5. Sort the tasks by priority and duration.\n",
    "6. Return a summary of tasks in the form of generator that yields tasks details one at a time for further processing.\n"
   ]
  },
  {
   "cell_type": "code",
   "execution_count": 2,
   "metadata": {},
   "outputs": [],
   "source": [
    "\n",
    "\n",
    "tasks = [\n",
    "    {\"name\": \"Task A\", \"priority\": \"Critical\", \"duration\": 5, \"category\": \"Development\"},\n",
    "    {\"name\": \"Task B\", \"priority\": \"High\", \"duration\": 3, \"category\": \"Testing\"},\n",
    "    {\"name\": \"Task C\", \"priority\": \"Medium\", \"duration\": 2, \"category\": \"Design\"},\n",
    "    {\"name\": \"Task D\", \"priority\": \"Critical\", \"duration\": 8, \"category\": \"Deployment\"},\n",
    "    {\"name\": \"Task E\", \"priority\": \"Low\", \"duration\": 1, \"category\": \"Maintenance\"}\n",
    "]"
   ]
  },
  {
   "cell_type": "code",
   "execution_count": 3,
   "metadata": {},
   "outputs": [
    {
     "name": "stdout",
     "output_type": "stream",
     "text": [
      "Total scaled duration: 12.8\n",
      "Task: Task A, Priority: Critical, Duration: 4.0\n",
      "Task: Task D, Priority: Critical, Duration: 6.4\n",
      "Task: Task B, Priority: High, Duration: 2.4\n"
     ]
    }
   ],
   "source": [
    "import numpy as np \n",
    "from functools import reduce\n",
    "\n",
    "# Priority mapping for sorting\n",
    "priority_order = { 'Critical':1 ,'High':2, 'Medium':3, 'Low':4}\n",
    "\n",
    "# 1. Filter tasks by priority\n",
    "filtered_tasks = list(filter(lambda t: t['priority']=='Critical' or t['priority']=='High', tasks))\n",
    "\n",
    "# 2. Calculate total duration\n",
    "total_duration = reduce(lambda acc, t: acc+t['duration'], filtered_tasks, 0)\n",
    "\n",
    "# 3. Apply a scaling factor to duration\n",
    "scaling_factor = 0.8\n",
    "scaled_tasks = list(x§  \n",
    "    map(\n",
    "        lambda t: {**t, 'duration': round(t['duration']*scaling_factor, 1)},\n",
    "        filtered_tasks\n",
    "    )\n",
    ")\n",
    "\n",
    "# 4. Sort tasks by priority and duration\n",
    "sorted_tasks = sorted(\n",
    "    scaled_tasks,\n",
    "    key=lambda t: (priority_order[t['priority']], t['duration'])\n",
    ")\n",
    "\n",
    "# 5. Generator to yield task details\n",
    "def task_generator(tasks):\n",
    "    for task in tasks:\n",
    "        yield f'Task: {task['name']}, Priority: {task['priority']}, Duration: {task['duration']}'\n",
    "\n",
    "# Output results\n",
    "print(f'Total scaled duration: {sum(t['duration'] for t in sorted_tasks)}')\n",
    "for task_detail in task_generator(sorted_tasks):\n",
    "    print(task_detail)\n",
    "\n"
   ]
  },
  {
   "cell_type": "code",
   "execution_count": null,
   "metadata": {},
   "outputs": [],
   "source": []
  },
  {
   "cell_type": "code",
   "execution_count": null,
   "metadata": {},
   "outputs": [],
   "source": []
  }
 ],
 "metadata": {
  "kernelspec": {
   "display_name": ".env",
   "language": "python",
   "name": "python3"
  },
  "language_info": {
   "codemirror_mode": {
    "name": "ipython",
    "version": 3
   },
   "file_extension": ".py",
   "mimetype": "text/x-python",
   "name": "python",
   "nbconvert_exporter": "python",
   "pygments_lexer": "ipython3",
   "version": "3.12.1"
  }
 },
 "nbformat": 4,
 "nbformat_minor": 2
}
