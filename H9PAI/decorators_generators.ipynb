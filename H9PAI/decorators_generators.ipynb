{
 "cells": [
  {
   "cell_type": "markdown",
   "metadata": {},
   "source": [
    "# Using Decorators to Enhance Functions\n",
    "Decorators modify or enhance the behavior of a functions dynamically. They are particulary useful for tasks like logging, timing, or adding custom functionality."
   ]
  },
  {
   "cell_type": "code",
   "execution_count": 2,
   "metadata": {},
   "outputs": [
    {
     "name": "stdout",
     "output_type": "stream",
     "text": [
      "Execution time of process_large_dataset: 0.20 seconds.\n"
     ]
    }
   ],
   "source": [
    "# Timing a Function\n",
    "import time\n",
    "\n",
    "# Decorator to measure execution \n",
    "def timing_decorator(func):\n",
    "    def wrapper(*args, **kwargs):\n",
    "        start_time = time.time()\n",
    "        result = func(*args, **kwargs)\n",
    "        end_time = time.time()\n",
    "        print(f'Execution time of {func.__name__}: {end_time-start_time:.2f} seconds.')\n",
    "        return result\n",
    "    return wrapper\n",
    "\n",
    "# Applying  the decorator to a function\n",
    "@timing_decorator\n",
    "def process_large_dataset(data):\n",
    "    return [x * 2 for x in data]\n",
    "\n",
    "large_data = range(10_000_000)\n",
    "processed_data = process_large_dataset(large_data)"
   ]
  },
  {
   "cell_type": "markdown",
   "metadata": {},
   "source": [
    "# Using Generators for Large Datasets\n",
    "Generators yield items one at time, making them memory-efficint for large datasets."
   ]
  },
  {
   "cell_type": "code",
   "execution_count": 3,
   "metadata": {},
   "outputs": [
    {
     "name": "stdout",
     "output_type": "stream",
     "text": [
      "0 1 1 2 3 5 8 13 21 34 55 89 "
     ]
    }
   ],
   "source": [
    "# Generator function for fibonacci sequence.\n",
    "def fibonacci_generator(limit):\n",
    "    a, b = 0, 1\n",
    "    while a < limit:\n",
    "        yield a\n",
    "        a, b = b, a+b\n",
    "\n",
    "# Using the generator\n",
    "for number in fibonacci_generator(100):\n",
    "    print(number, end=' ')"
   ]
  },
  {
   "cell_type": "markdown",
   "metadata": {},
   "source": [
    "# Combining Decorators and Generators\n",
    "Decorators can enhance generators as well, for example, by logging their usage or filtering their output."
   ]
  },
  {
   "cell_type": "code",
   "execution_count": 4,
   "metadata": {},
   "outputs": [
    {
     "name": "stdout",
     "output_type": "stream",
     "text": [
      "1 2 3 4 5 6 7 8 9 10 11 12 13 14 15 16 17 18 19 "
     ]
    }
   ],
   "source": [
    "# Decorator to filter generator output\n",
    "def filter_decorator(predicate):\n",
    "    def decorator(generetor_func):\n",
    "        def wrapper(*args, **kwargs):\n",
    "            for item in generetor_func(*args, **kwargs):\n",
    "                yield item\n",
    "        return wrapper\n",
    "    return decorator\n",
    "\n",
    "# Generator function to yield numbers\n",
    "@filter_decorator(lambda x: x%2 == 0)\n",
    "def number_stream(start, end):\n",
    "    for num in range(start, end):\n",
    "        yield num\n",
    "\n",
    "# Using the enhanced generator\n",
    "for even_number in number_stream(1, 20):\n",
    "    print(even_number, end=' ')"
   ]
  },
  {
   "cell_type": "markdown",
   "metadata": {},
   "source": [
    "# Advanced: Combining Multiple Decorators\n",
    "Decorators can be stacked to add multiple enhancements to a function."
   ]
  },
  {
   "cell_type": "code",
   "execution_count": 5,
   "metadata": {},
   "outputs": [
    {
     "name": "stdout",
     "output_type": "stream",
     "text": [
      "Calling wrapper with args= (range(1, 10),), kwargs= {}\n",
      "Execution time of square_numbers: 0.00 seconds.\n",
      "[1, 4, 9, 16, 25, 36, 49, 64, 81]\n"
     ]
    }
   ],
   "source": [
    "# Logging decorator\n",
    "def log_decorator(func):\n",
    "    def wrapper(*args, **kwargs):\n",
    "        print(f'Calling {func.__name__} with args= {args}, kwargs= {kwargs}')\n",
    "        return func(*args, **kwargs)\n",
    "    return wrapper\n",
    "\n",
    "# Timing decorator (reuse from before)\n",
    "@log_decorator\n",
    "@timing_decorator\n",
    "def square_numbers(data):\n",
    "    return (x ** 2 for x in data)\n",
    "\n",
    "squared = square_numbers(range(1,10))\n",
    "print(list(squared))"
   ]
  },
  {
   "cell_type": "code",
   "execution_count": null,
   "metadata": {},
   "outputs": [],
   "source": []
  }
 ],
 "metadata": {
  "kernelspec": {
   "display_name": ".env",
   "language": "python",
   "name": "python3"
  },
  "language_info": {
   "codemirror_mode": {
    "name": "ipython",
    "version": 3
   },
   "file_extension": ".py",
   "mimetype": "text/x-python",
   "name": "python",
   "nbconvert_exporter": "python",
   "pygments_lexer": "ipython3",
   "version": "3.12.1"
  }
 },
 "nbformat": 4,
 "nbformat_minor": 2
}
