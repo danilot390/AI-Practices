{
 "cells": [
  {
   "cell_type": "markdown",
   "metadata": {},
   "source": [
    "# Logical Grid Puzzle. Solve the matrix\n",
    "You have a 5x5 matrix filled with random  integers between 1 and 100. Write a Python function that:\n",
    "1. Finds the row with maximum sum\n",
    "2. Finds the column with minimum sum\n",
    "3. Checks if the matrix is symetric [i.e., A[i][j] = A[j][i]]."
   ]
  },
  {
   "cell_type": "code",
   "execution_count": 2,
   "metadata": {},
   "outputs": [
    {
     "data": {
      "text/plain": [
       "array([[73, 90, 21, 15, 82],\n",
       "       [67, 38, 30, 84, 11],\n",
       "       [66, 62,  3, 58, 36],\n",
       "       [24, 89,  2, 50,  9],\n",
       "       [15, 87, 26, 88, 38]])"
      ]
     },
     "execution_count": 2,
     "metadata": {},
     "output_type": "execute_result"
    }
   ],
   "source": [
    "import numpy as np\n",
    "\n",
    "# Step 1. Generate a 5x5 matrix with random integers\n",
    "matrix = np.random.randint(1, 101, (5, 5))"
   ]
  },
  {
   "cell_type": "code",
   "execution_count": 3,
   "metadata": {},
   "outputs": [
    {
     "name": "stdout",
     "output_type": "stream",
     "text": [
      "Matrix \n",
      " [[73 90 21 15 82]\n",
      " [67 38 30 84 11]\n",
      " [66 62  3 58 36]\n",
      " [24 89  2 50  9]\n",
      " [15 87 26 88 38]]\n",
      "Row with maximus sum.  0\n",
      "Column with minimum sum.  3\n",
      "Is the matrix symetric?  False\n"
     ]
    }
   ],
   "source": [
    "# Step 2. Write a function to solve the tasks\n",
    "def analyze_matrix(matrix):\n",
    "    # Find the row with the maximus sum\n",
    "    row_sums = matrix.sum(axis=1)\n",
    "    max_row_index = np.argmax(row_sums)\n",
    "\n",
    "    # Find the column with the minimun sum\n",
    "    column_sums = matrix.sum(axis=0)\n",
    "    min_col_index = np.argmin(column_sums)\n",
    "\n",
    "    # Check if the matrix is symetric\n",
    "    is_Symetric = np.array_equal(matrix, matrix.T)\n",
    "\n",
    "    return max_row_index, min_col_index, is_Symetric\n",
    "\n",
    "# Step 3. Analyze the matrix\n",
    "max_row, min_col, symetric = analyze_matrix(matrix)\n",
    "\n",
    "# print results\n",
    "print('Matrix \\n', matrix)\n",
    "print('Row with maximus sum. ', max_row)\n",
    "print('Column with minimum sum. ', min_col)\n",
    "print('Is the matrix symetric? ', symetric)"
   ]
  },
  {
   "cell_type": "markdown",
   "metadata": {},
   "source": [
    "# Mathematical Reasoning: Solve a System of Equations\n",
    "Solve the following system of equations using Python:\n",
    "* 3x + 4y - z = 7\n",
    "* 2x - y + 3z = 3\n",
    "* 5x + 2y + 2z = 8"
   ]
  },
  {
   "cell_type": "code",
   "execution_count": 4,
   "metadata": {},
   "outputs": [
    {
     "name": "stdout",
     "output_type": "stream",
     "text": [
      "Solution (x, y, z): [0.18181818 2.         1.54545455]\n"
     ]
    }
   ],
   "source": [
    "import numpy as np \n",
    "\n",
    "# Define the coefficients matrix (A) and constants (B)\n",
    "A = np.array([\n",
    "    [3, 4, -1],\n",
    "    [2, -1, 3],\n",
    "    [5, 2, 2]\n",
    "])\n",
    "B = np.array([7, 3, 8])\n",
    "\n",
    "# Solve the system of equations\n",
    "solution = np.linalg.solve(A, B)\n",
    "\n",
    "# Print the solution\n",
    "print('Solution (x, y, z):', solution)"
   ]
  },
  {
   "cell_type": "markdown",
   "metadata": {},
   "source": [
    "# Logical Problem: Knight's Tour\n",
    "Write a function to determine whether a knight on a chessboard can visit all squares of an 8x8 board exactly once (Knight's Tour). Solve the simplified version where the knight starts starts in the top-left corner, and a single path solution is sufficient."
   ]
  },
  {
   "cell_type": "code",
   "execution_count": 1,
   "metadata": {},
   "outputs": [
    {
     "name": "stdout",
     "output_type": "stream",
     "text": [
      "Knight's tour solution\n",
      "[0, 59, 38, 33, 30, 17, 8, 63]\n",
      "[37, 34, 31, 60, 9, 62, 29, 16]\n",
      "[58, 1, 36, 39, 32, 27, 18, 7]\n",
      "[35, 48, 41, 26, 61, 10, 15, 28]\n",
      "[42, 57, 2, 49, 40, 23, 6, 19]\n",
      "[47, 50, 45, 54, 25, 20, 11, 14]\n",
      "[56, 43, 52, 3, 22, 13, 24, 5]\n",
      "[51, 46, 55, 44, 53, 4, 21, 12]\n"
     ]
    }
   ],
   "source": [
    "def is_safe(x, y, board):\n",
    "    return 0 <= x < 8 and 0 <= y < 8 and board[x][y] == -1\n",
    "\n",
    "def knight_tour_util(x, y, move_count, board, x_moves, y_moves):\n",
    "    if move_count == 64:\n",
    "        return True\n",
    "    \n",
    "    for i in range(8):\n",
    "        next_x = x + x_moves[i]\n",
    "        next_y = y + y_moves[i]\n",
    "        if is_safe(next_x, next_y, board):\n",
    "            board[next_x][next_y] = move_count\n",
    "\n",
    "            if knight_tour_util(next_x, next_y, move_count +1, board, x_moves, y_moves):\n",
    "                return True\n",
    "            \n",
    "            board[next_x][next_y] = -1 # Backtracking\n",
    "\n",
    "    return False\n",
    "\n",
    "def knight_tour():\n",
    "    board = [[-1 for _ in range(8)] for _ in range(8)]\n",
    "    x_moves = [2, 1, -1, -2, -2, -1, 1, 2]\n",
    "    y_moves = [1, 2, 2, 1, -1, -2, -2, -1]\n",
    "\n",
    "    # Start from top-left corner\n",
    "    board[0][0] = 0\n",
    "\n",
    "    if knight_tour_util(0, 0, 1, board, x_moves, y_moves):\n",
    "        print(\"Knight's tour solution\")\n",
    "        for row in board:\n",
    "            print(row)\n",
    "    \n",
    "    else:\n",
    "        print('No solution exists')\n",
    "\n",
    "knight_tour()\n"
   ]
  }
 ],
 "metadata": {
  "kernelspec": {
   "display_name": ".env",
   "language": "python",
   "name": "python3"
  },
  "language_info": {
   "codemirror_mode": {
    "name": "ipython",
    "version": 3
   },
   "file_extension": ".py",
   "mimetype": "text/x-python",
   "name": "python",
   "nbconvert_exporter": "python",
   "pygments_lexer": "ipython3",
   "version": "3.12.1"
  }
 },
 "nbformat": 4,
 "nbformat_minor": 2
}
